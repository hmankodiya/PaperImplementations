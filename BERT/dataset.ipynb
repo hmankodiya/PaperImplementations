{
 "cells": [
  {
   "cell_type": "code",
   "execution_count": 6,
   "metadata": {},
   "outputs": [],
   "source": [
    "import numpy as np\n",
    "\n",
    "import torch\n",
    "from transformers import BertTokenizer\n",
    "\n",
    "import language as lan"
   ]
  },
  {
   "cell_type": "code",
   "execution_count": 7,
   "metadata": {},
   "outputs": [
    {
     "data": {
      "text/plain": [
       "(93547, 30522)"
      ]
     },
     "execution_count": 7,
     "metadata": {},
     "output_type": "execute_result"
    }
   ],
   "source": [
    "pretrained_model_name_or_path = 'google-bert/bert-base-uncased'\n",
    "tokenizer = BertTokenizer.from_pretrained(pretrained_model_name_or_path, clean_up_tokenization_spaces=False)\n",
    "dataset = lan.Dataset(tokenizer, corpus_filename='./dataset/english.txt')\n",
    "len(dataset), len(tokenizer)"
   ]
  },
  {
   "cell_type": "code",
   "execution_count": 8,
   "metadata": {},
   "outputs": [],
   "source": [
    "iterator = iter(dataset)"
   ]
  },
  {
   "cell_type": "code",
   "execution_count": 237,
   "metadata": {},
   "outputs": [
    {
     "name": "stdout",
     "output_type": "stream",
     "text": [
      "tensor([[ 101, 3582,  103, 1012,  102]]) tensor([[  -1,   -1, 2149,   -1,   -1]]) tensor([[ 101, 3582, 2149, 1012,  102]])\n",
      "['[CLS]', 'follow', '[MASK]', '.', '[SEP]'] ['[CLS]', 'follow', 'us', '.', '[SEP]']\n"
     ]
    }
   ],
   "source": [
    "input_ids, labels, original_label = next(iterator)\n",
    "print(input_ids, labels, original_label)\n",
    "print(tokenizer.convert_ids_to_tokens(input_ids[0]), tokenizer.convert_ids_to_tokens(original_label[0]))"
   ]
  }
 ],
 "metadata": {
  "kernelspec": {
   "display_name": "DL",
   "language": "python",
   "name": "python3"
  },
  "language_info": {
   "codemirror_mode": {
    "name": "ipython",
    "version": 3
   },
   "file_extension": ".py",
   "mimetype": "text/x-python",
   "name": "python",
   "nbconvert_exporter": "python",
   "pygments_lexer": "ipython3",
   "version": "3.10.14"
  }
 },
 "nbformat": 4,
 "nbformat_minor": 2
}
