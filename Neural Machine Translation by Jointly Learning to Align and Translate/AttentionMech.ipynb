{
 "cells": [
  {
   "cell_type": "code",
   "execution_count": 1,
   "metadata": {},
   "outputs": [],
   "source": [
    "from io import open\n",
    "import unicodedata\n",
    "import string\n",
    "import re\n",
    "import random\n",
    "\n",
    "import torch\n",
    "import torch.nn as nn\n",
    "from torch import optim\n",
    "import torch.nn.functional as F\n",
    "\n",
    "DEVICE = torch.device(\"cuda\" if torch.cuda.is_available() else \"cpu\")"
   ]
  },
  {
   "cell_type": "code",
   "execution_count": 2,
   "metadata": {},
   "outputs": [],
   "source": [
    "MAX_LENGTH = 10\n",
    "\n",
    "eng_prefixes = (\n",
    "    \"i am \", \"i m \",\n",
    "    \"he is\", \"he s \",\n",
    "    \"she is\", \"she s \",\n",
    "    \"you are\", \"you re \",\n",
    "    \"we are\", \"we re \",\n",
    "    \"they are\", \"they re \"\n",
    ")"
   ]
  },
  {
   "cell_type": "code",
   "execution_count": 4,
   "metadata": {},
   "outputs": [
    {
     "name": "stdout",
     "output_type": "stream",
     "text": [
      "Reading lines...\n",
      "Read 135842 sentence pairs\n",
      "Trimmed to 10599 sentence pairs\n",
      "Counting words...\n",
      "Counted words:\n",
      "fra 4345\n",
      "eng 2803\n",
      "['je suis contre le travail du dimanche .', 'i am against working on sundays .']\n"
     ]
    }
   ],
   "source": [
    "device = torch.device(\"cuda\" if torch.cuda.is_available() else \"cpu\")\n",
    "SOS_token = 0\n",
    "EOS_token = 1\n",
    "\n",
    "class Lang:\n",
    "    def __init__(self, name):\n",
    "        self.name = name\n",
    "        self.word2index = {}\n",
    "        self.word2count = {}\n",
    "        self.index2word = {0: \"SOS\", 1: \"EOS\"}\n",
    "        self.n_words = 2  # Count SOS and EOS\n",
    "\n",
    "    def addSentence(self, sentence):\n",
    "        for word in sentence.split(' '):\n",
    "            self.addWord(word)\n",
    "\n",
    "    def addWord(self, word):\n",
    "        \n",
    "        if word not in self.word2index:\n",
    "            self.word2index[word] = self.n_words\n",
    "            self.word2count[word] = 1\n",
    "            self.index2word[self.n_words] = word\n",
    "            self.n_words += 1\n",
    "        else:\n",
    "            self.word2count[word] += 1\n",
    "\n",
    "def unicodeToAscii(s):\n",
    "    return ''.join(\n",
    "        c for c in unicodedata.normalize('NFD', s)\n",
    "        if unicodedata.category(c) != 'Mn'\n",
    "    )\n",
    "    \n",
    "def normalizeString(s):\n",
    "    s = unicodeToAscii(s.lower().strip())\n",
    "    s = re.sub(r\"([.!?])\", r\" \\1\", s)\n",
    "    s = re.sub(r\"[^a-zA-Z.!?]+\", r\" \", s)\n",
    "    return s\n",
    "\n",
    "def readLangs(lang1, lang2, reverse=False):\n",
    "    print(\"Reading lines...\")\n",
    "\n",
    "    lines = open('../data/%s-%s.txt' % (lang1, lang2),\n",
    "                encoding='utf-8').read().strip().split('\\n')\n",
    "\n",
    "    pairs = [[normalizeString(s) for s in l.split('\\t')] for l in lines]\n",
    "\n",
    "    if reverse:\n",
    "        pairs = [list(reversed(p)) for p in pairs]\n",
    "        input_lang = Lang(lang2)\n",
    "        output_lang = Lang(lang1)\n",
    "    else:\n",
    "        input_lang = Lang(lang1)\n",
    "        output_lang = Lang(lang2)\n",
    "\n",
    "    return input_lang, output_lang, pairs\n",
    "\n",
    "\n",
    "\n",
    "def filterPair(p):\n",
    "    return len(p[0].split(' ')) < MAX_LENGTH and \\\n",
    "        len(p[1].split(' ')) < MAX_LENGTH and \\\n",
    "        p[1].startswith(eng_prefixes)\n",
    "\n",
    "\n",
    "def filterPairs(pairs):\n",
    "    return [pair for pair in pairs if filterPair(pair)]\n",
    "\n",
    "def prepareData(lang1, lang2, reverse=False):\n",
    "    input_lang, output_lang, pairs = readLangs(lang1, lang2, reverse)\n",
    "    print(\"Read %s sentence pairs\" % len(pairs))\n",
    "    pairs = filterPairs(pairs)\n",
    "    print(\"Trimmed to %s sentence pairs\" % len(pairs))\n",
    "    print(\"Counting words...\")\n",
    "    for pair in pairs:\n",
    "        input_lang.addSentence(pair[0])\n",
    "        output_lang.addSentence(pair[1])\n",
    "    print(\"Counted words:\")\n",
    "    print(input_lang.name, input_lang.n_words)\n",
    "    print(output_lang.name, output_lang.n_words)\n",
    "    return input_lang, output_lang, pairs\n",
    "\n",
    "input_lang, output_lang, pairs = prepareData('eng', 'fra', True)\n",
    "print(random.choice(pairs))\n",
    "\n",
    "def indexesFromSentence(lang, sentence):\n",
    "    return [lang.word2index[word] for word in sentence.split(' ')]\n",
    "\n",
    "\n",
    "def tensorFromSentence(lang, sentence):\n",
    "    indexes = indexesFromSentence(lang, sentence)\n",
    "    indexes.append(EOS_token)\n",
    "    return torch.tensor(indexes, dtype=torch.long, device=device).view(-1, 1)\n",
    "\n",
    "\n",
    "def tensorsFromPair(pair):\n",
    "    input_tensor = tensorFromSentence(input_lang, pair[0])\n",
    "    target_tensor = tensorFromSentence(output_lang, pair[1])\n",
    "    return (input_tensor, target_tensor)\n"
   ]
  },
  {
   "cell_type": "code",
   "execution_count": 5,
   "metadata": {},
   "outputs": [],
   "source": [
    "class Encoder(nn.Module):\n",
    "    def __init__(self, input_size, hidden_size) -> None:\n",
    "        super(Encoder, self).__init__()\n",
    "        \n",
    "        # vocab size\n",
    "        self.input_size = input_size\n",
    "        \n",
    "        # hidden neurons in the RNNs\n",
    "        self.hidden_size = hidden_size \n",
    "        \n",
    "        self.embedding = nn.Embedding(input_size, hidden_size)\n",
    "        self.gru = nn.GRU(hidden_size, hidden_size)\n",
    "\n",
    "    def forward(self, source_input, source_hidden):\n",
    "        encoder_embedded = self.embedding(source_input).view(1, 1, -1)\n",
    "        encoder_output, encoder_hidden = self.gru(encoder_embedded, source_hidden)\n",
    "        return encoder_output, encoder_hidden\n",
    "    \n",
    "    def initHidden(self):\n",
    "        return torch.zeros(1, 1, self.hidden_size, device = DEVICE)\n",
    "        \n",
    "class Decoder(nn.Module):\n",
    "    def __init__(self, hidden_size, output_size) -> None:\n",
    "        super(Decoder, self).__init__()\n",
    "        \n",
    "        # encoder hidden unit size\n",
    "        self.hidden_size = hidden_size\n",
    "        \n",
    "        # output lang vocab size\n",
    "        self.output_size = output_size\n",
    "        \n",
    "        self.embeddings = nn.Embedding(self.output_size, self.hidden_size)\n",
    "        self.gru = nn.GRU(self.hidden_size, self.hidden_size)\n",
    "        self.linear = nn.Linear(self.hidden_size, self.output_size)\n",
    "        self.softmax = nn.LogSoftmax(dim=1)\n",
    "    \n",
    "    def forward(self, target_input, target_hidden):\n",
    "        # print(target_input.size())\n",
    "        decoder_embedded = self.embeddings(target_input).view(1, 1, -1)\n",
    "        decoder_embedded = F.relu(decoder_embedded)\n",
    "        # print(embedded.size())\n",
    "        decoder_output, decoder_hidden = self.gru(decoder_embedded, target_hidden)\n",
    "        linear_output = self.linear(decoder_output)[0]\n",
    "        # print(linear_output.size())\n",
    "        decoder_output = self.softmax(linear_output)\n",
    "        return decoder_output, decoder_hidden\n",
    "    \n",
    "    def initHidden(self):\n",
    "        return torch.zeros(1, 1, self.hidden_size, device = DEVICE)     \n",
    "        "
   ]
  },
  {
   "cell_type": "code",
   "execution_count": 54,
   "metadata": {},
   "outputs": [],
   "source": [
    "class AttnDecoderRNN(nn.Module):\n",
    "    def __init__(self, hidden_size, output_size, dropout_p=0.1, max_length=MAX_LENGTH):\n",
    "        super(AttnDecoderRNN, self).__init__()\n",
    "        self.hidden_size = hidden_size\n",
    "        self.output_size = output_size\n",
    "        self.dropout_p = dropout_p\n",
    "        self.max_length = max_length\n",
    "\n",
    "        self.embedding = nn.Embedding(self.output_size, self.hidden_size)\n",
    "        self.attn = nn.Linear(self.hidden_size * 2, self.max_length)\n",
    "        self.attn_combine = nn.Linear(self.hidden_size * 2, self.hidden_size)\n",
    "        self.dropout = nn.Dropout(self.dropout_p)\n",
    "        self.gru = nn.GRU(self.hidden_size, self.hidden_size)\n",
    "        self.out = nn.Linear(self.hidden_size, self.output_size)\n",
    "\n",
    "    def forward(self, input, hidden, encoder_outputs):\n",
    "        # print(f'1 input {input.size()} hidden {hidden.size()} encoder_outputs {encoder_outputs.size()}')\n",
    "        embedded = self.embedding(input).view(1, 1, -1)\n",
    "        # print(f'2 embedded {embedded.size()}')\n",
    "        embedded = self.dropout(embedded)\n",
    "\n",
    "        # print(f'3 embedded {embedded.size()}')\n",
    "        concat = torch.cat((embedded[0], hidden[0]), 1)\n",
    "        # print(f'4 concat {concat.size()}')\n",
    "        attn = self.attn(concat)\n",
    "        # print(f'5 attn {attn.size()}')\n",
    "        attn_weights = F.softmax(attn, dim=1)\n",
    "        attn_weights_unsq = attn_weights.unsqueeze(0)\n",
    "        encoder_outputs_unsq = encoder_outputs.unsqueeze(0)\n",
    "        # print(f'6 attn_weights {attn_weights.size()} attn_weights_unsq {attn_weights_unsq.size()} encoder_outputs_unsq {encoder_outputs_unsq.size()}')\n",
    "        attn_applied = torch.bmm(attn_weights_unsq, encoder_outputs_unsq)\n",
    "        # print(f'7 attn_applied {attn_applied.size()}')\n",
    "        \n",
    "        output = torch.cat((embedded[0], attn_applied[0]), 1)\n",
    "        # print(f'8 output {output.size()}')\n",
    "        output = self.attn_combine(output).unsqueeze(0)\n",
    "        # print(f'9 output {output.size()}')\n",
    "\n",
    "        output = F.relu(output)\n",
    "        # print(f'10 output {output.size()}')\n",
    "        output, hidden = self.gru(output, hidden)\n",
    "        # print(f'11 output {output.size()} hidden {hidden.size()}')\n",
    "\n",
    "        output = F.log_softmax(self.out(output[0]), dim=1)\n",
    "        # print(f'12 output {output.size()}')\n",
    "        return output, hidden, attn_weights\n",
    "\n",
    "    def initHidden(self):\n",
    "        return torch.zeros(1, 1, self.hidden_size, device=device)"
   ]
  },
  {
   "cell_type": "code",
   "execution_count": 55,
   "metadata": {},
   "outputs": [
    {
     "data": {
      "text/plain": [
       "(1, torch.Size([1]), torch.Size([1]))"
      ]
     },
     "execution_count": 55,
     "metadata": {},
     "output_type": "execute_result"
    }
   ],
   "source": [
    "n_iters = 1\n",
    "training_pairs = [tensorsFromPair(random.choice(pairs)) for i in range(n_iters)]\n",
    "input_tensor, target_tensor = training_pairs[0][0][0], training_pairs[0][1][0]\n",
    "len(training_pairs), input_tensor.size(), target_tensor.size()"
   ]
  },
  {
   "cell_type": "code",
   "execution_count": 56,
   "metadata": {},
   "outputs": [],
   "source": [
    "hidden_size = 256\n",
    "encoder_gru = Encoder(input_lang.n_words, hidden_size=hidden_size).to(DEVICE)\n",
    "hidden_units = encoder_gru.initHidden()\n",
    "encoder_output, encoder_hidden = encoder_gru(input_tensor, hidden_units)\n",
    "encoder_output.size(), encoder_hidden.size()\n",
    "encoder_outputs = torch.zeros(MAX_LENGTH, encoder_gru.hidden_size,\n",
    "                              device=DEVICE)\n",
    "encoder_outputs[0] = encoder_output[0, 0]"
   ]
  },
  {
   "cell_type": "code",
   "execution_count": 57,
   "metadata": {},
   "outputs": [],
   "source": [
    "attn_decoder = AttnDecoderRNN(hidden_size, output_lang.n_words).to(DEVICE)\n",
    "attn_decoder_output, attn_decoder_hidden, attn_decoder_weights = attn_decoder(target_tensor,\n",
    "                                                                              encoder_hidden,\n",
    "                                                                              encoder_outputs) "
   ]
  },
  {
   "cell_type": "code",
   "execution_count": 58,
   "metadata": {},
   "outputs": [
    {
     "data": {
      "text/plain": [
       "(torch.Size([1, 2803]), torch.Size([1, 1, 256]))"
      ]
     },
     "execution_count": 58,
     "metadata": {},
     "output_type": "execute_result"
    }
   ],
   "source": [
    "decoder_gru = Decoder(hidden_size=hidden_size, \n",
    "                         output_size=output_lang.n_words,\n",
    "                         ).to(DEVICE)\n",
    "decoder_output, decoder_hidden = decoder_gru(target_tensor, encoder_hidden)\n",
    "decoder_output.size(), decoder_hidden.size()"
   ]
  },
  {
   "cell_type": "code",
   "execution_count": 59,
   "metadata": {},
   "outputs": [
    {
     "data": {
      "text/plain": [
       "'torch.cuda.LongTensor'"
      ]
     },
     "execution_count": 59,
     "metadata": {},
     "output_type": "execute_result"
    }
   ],
   "source": [
    "target_tensor.type()"
   ]
  },
  {
   "cell_type": "code",
   "execution_count": 60,
   "metadata": {},
   "outputs": [],
   "source": [
    "def train(input_tensor, target_tensor, encoder, decoder, encoder_optimizer,\n",
    "          decoder_optimizer, criterion, max_length=MAX_LENGTH):\n",
    "    \n",
    "      encoder_hidden = encoder.initHidden()\n",
    "\n",
    "      encoder_optimizer.zero_grad()\n",
    "      decoder_optimizer.zero_grad()\n",
    "\n",
    "      input_length = input_tensor.size(0)\n",
    "      target_length = target_tensor.size(0)\n",
    "\n",
    "      encoder_outputs = torch.zeros(max_length, encoder.hidden_size, device=DEVICE)\n",
    "\n",
    "      loss = 0\n",
    "\n",
    "      for ei in range(input_length):\n",
    "            encoder_output, encoder_hidden = encoder(input_tensor[ei], \n",
    "                                                      encoder_hidden)\n",
    "            encoder_outputs[ei] = encoder_output[0, 0]\n",
    "      \n",
    "      decoder_input = torch.tensor([[SOS_token]], dtype=torch.int64,\n",
    "                                   device=DEVICE)\n",
    "      decoder_hidden = encoder_hidden\n",
    "      for di in range(target_length):\n",
    "            decoder_output, decoder_hidden, decoder_attention = decoder(decoder_input,\n",
    "                                                                        decoder_hidden,\n",
    "                                                                        encoder_outputs)\n",
    "            # decoder_output, decoder_hidden = decoder(decoder_input, decoder_hidden)\n",
    "            loss += criterion(decoder_output, target_tensor[di])\n",
    "            decoder_input = target_tensor[di]\n",
    "            \n",
    "      loss.backward()\n",
    "      encoder_optimizer.step()\n",
    "      decoder_optimizer.step()\n",
    "      \n",
    "      return loss.item() / target_length\n",
    "\n",
    "def train_iters(encoder, decoder, n_iters, print_every=1000, plot_every=100, \n",
    "                learning_rate=0.01):\n",
    "      encoder_optimizer = optim.SGD(encoder.parameters(), lr=learning_rate)\n",
    "      decoder_optimizer = optim.SGD(decoder.parameters(), lr=learning_rate)\n",
    "      training_pairs = [tensorsFromPair(random.choice(pairs)) for i in range(n_iters)]\n",
    "      crierion = nn.NLLLoss()\n",
    "      for iter in range(1, n_iters+1):\n",
    "            training_pair = training_pairs[iter-1]\n",
    "            input_tensor = training_pair[0]\n",
    "            target_tensor = training_pair[1]\n",
    "            \n",
    "            loss = train(input_tensor=input_tensor, target_tensor=target_tensor, \n",
    "                         encoder=encoder, decoder=decoder, \n",
    "                         encoder_optimizer=encoder_optimizer, \n",
    "                         decoder_optimizer=decoder_optimizer,\n",
    "                         criterion=crierion,)\n",
    "            if iter % print_every ==0:\n",
    "                  print(loss)"
   ]
  },
  {
   "cell_type": "code",
   "execution_count": 61,
   "metadata": {},
   "outputs": [
    {
     "name": "stdout",
     "output_type": "stream",
     "text": [
      "3.140512466430664\n",
      "1.6582053899765015\n",
      "2.3729005541120256\n",
      "0.40833795070648193\n",
      "1.546718915303548\n",
      "0.46567126115163165\n",
      "0.5524654388427734\n",
      "0.4465926170349121\n",
      "0.028758640090624493\n",
      "0.07189585481371198\n",
      "0.7609364986419678\n",
      "0.42893415027194554\n",
      "0.00702615703145663\n",
      "1.5226192474365234\n",
      "0.16236746311187744\n"
     ]
    }
   ],
   "source": [
    "hidden_size = 256\n",
    "encoder = Encoder(input_lang.n_words, hidden_size=hidden_size).to(device=DEVICE)\n",
    "# decoder = Decoder(hidden_size, output_lang.n_words).to(device=DEVICE)\n",
    "decoder_attn = AttnDecoderRNN(hidden_size, output_lang.n_words).to(device=DEVICE)\n",
    "train_iters(encoder, decoder_attn, 75000, print_every=5000)"
   ]
  },
  {
   "cell_type": "code",
   "execution_count": 26,
   "metadata": {},
   "outputs": [],
   "source": [
    "# inp_temp = tensorFromSentence(input_lang, pairs[0][0])\n",
    "# temp_hidden = encoder.initHidden()\n",
    "# encoder_output_temp, encoder_hidden_temp = encoder(inp_temp[0], temp_hidden)\n",
    "# decoder_inp_temp = torch.tensor([[SOS_token]], device=DEVICE)\n",
    "# decoder_output_temp, decoder_hidden_temp = decoder(decoder_inp_temp,\n",
    "#                                                    encoder_hidden_temp)\n",
    "# # decoder_output_temp.size(), decoder_hidden_temp.size()\n",
    "# topv, topi = decoder_output_temp.data.topk(1)\n",
    "# topv, topi, topi.squeeze(), topi.squeeze().detach()"
   ]
  },
  {
   "cell_type": "code",
   "execution_count": 62,
   "metadata": {},
   "outputs": [
    {
     "data": {
      "text/plain": [
       "tensor([[0]], device='cuda:0')"
      ]
     },
     "execution_count": 62,
     "metadata": {},
     "output_type": "execute_result"
    }
   ],
   "source": [
    "decoder_input = torch.tensor([[SOS_token]], device=DEVICE)\n",
    "decoder_input"
   ]
  },
  {
   "cell_type": "code",
   "execution_count": 64,
   "metadata": {},
   "outputs": [],
   "source": [
    "def predict(encoder, decoder, sentence, max_length = MAX_LENGTH):\n",
    "    with torch.no_grad():\n",
    "        input_tensor = tensorFromSentence(input_lang, sentence)\n",
    "        input_length = input_tensor.size()[0]\n",
    "        encoder_hidden = encoder.initHidden()\n",
    "        encoder_outputs = torch.zeros(max_length, encoder.hidden_size, device=DEVICE)\n",
    "\n",
    "        for ei in range(input_length):\n",
    "            encoder_output, encoder_hidden = encoder(input_tensor[ei],\n",
    "                                                     encoder_hidden)\n",
    "            encoder_outputs[ei] = encoder_output[0, 0]\n",
    "        decoder_input = torch.tensor([[SOS_token]], device=DEVICE)\n",
    "        decoder_hidden = encoder_hidden\n",
    "        \n",
    "        decoded_words = []\n",
    "        for di in range(max_length):\n",
    "            decoder_output, decoder_hidden, decoder_attention = decoder(decoder_input, \n",
    "                                                                        decoder_hidden,\n",
    "                                                                        encoder_outputs)\n",
    "            topv, topi = decoder_output.data.topk(1)\n",
    "            if topi.item() == EOS_token:\n",
    "                decoded_words.append('<EOS>')\n",
    "                break\n",
    "            decoded_words.append(output_lang.index2word[topi.item()])\n",
    "            decoder_input = topi\n",
    "        return decoded_words"
   ]
  },
  {
   "cell_type": "code",
   "execution_count": 72,
   "metadata": {},
   "outputs": [
    {
     "data": {
      "text/plain": [
       "('elle est inquiete pour votre securite .',\n",
       " 'she s worried about your safety .',\n",
       " ['she', 's', 'worried', 'about', 'your', 'safety', '.', '<EOS>'])"
      ]
     },
     "execution_count": 72,
     "metadata": {},
     "output_type": "execute_result"
    }
   ],
   "source": [
    "pair = random.choice(pairs)\n",
    "test_sentence, correct_sentence  = pair[0], pair[1]\n",
    "decoded_words_final = predict(encoder, decoder_attn, test_sentence)\n",
    "test_sentence, correct_sentence, decoded_words_final, "
   ]
  },
  {
   "cell_type": "code",
   "execution_count": null,
   "metadata": {},
   "outputs": [],
   "source": []
  },
  {
   "cell_type": "code",
   "execution_count": null,
   "metadata": {},
   "outputs": [],
   "source": []
  },
  {
   "cell_type": "code",
   "execution_count": null,
   "metadata": {},
   "outputs": [],
   "source": []
  }
 ],
 "metadata": {
  "kernelspec": {
   "display_name": "base",
   "language": "python",
   "name": "python3"
  },
  "language_info": {
   "codemirror_mode": {
    "name": "ipython",
    "version": 3
   },
   "file_extension": ".py",
   "mimetype": "text/x-python",
   "name": "python",
   "nbconvert_exporter": "python",
   "pygments_lexer": "ipython3",
   "version": "3.10.6"
  },
  "orig_nbformat": 4,
  "vscode": {
   "interpreter": {
    "hash": "9dbf8f4c165eb0b71c72ee397a4a34a0cbf4814bae4fb3ea460f3ccc58581f59"
   }
  }
 },
 "nbformat": 4,
 "nbformat_minor": 2
}
